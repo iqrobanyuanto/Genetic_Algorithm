{
  "nbformat": 4,
  "nbformat_minor": 0,
  "metadata": {
    "colab": {
      "provenance": [],
      "authorship_tag": "ABX9TyObBbvCoF3oW7syM1bUIUqW",
      "include_colab_link": true
    },
    "kernelspec": {
      "name": "python3",
      "display_name": "Python 3"
    },
    "language_info": {
      "name": "python"
    }
  },
  "cells": [
    {
      "cell_type": "markdown",
      "metadata": {
        "id": "view-in-github",
        "colab_type": "text"
      },
      "source": [
        "<a href=\"https://colab.research.google.com/github/iqrobanyuanto/Genetic_Algorithm/blob/main/Genetic_Algorithm_IR.ipynb\" target=\"_parent\"><img src=\"https://colab.research.google.com/assets/colab-badge.svg\" alt=\"Open In Colab\"/></a>"
      ]
    },
    {
      "cell_type": "markdown",
      "source": [
        "Problem: Mencari nilai minimum dari rumus yang diberikan di soal\n",
        "\n",
        "approach fittest 1 = mencari nilai terkecil dari setiap gen, lalu membandingkanya dengan gen lain"
      ],
      "metadata": {
        "id": "hcZtbSm1NwNr"
      }
    },
    {
      "cell_type": "markdown",
      "source": [
        "Testing hehe"
      ],
      "metadata": {
        "id": "HEcKjx2Luhtm"
      }
    },
    {
      "cell_type": "code",
      "source": [
        "chromosome = [1, 2, 3, 4, 6]\n",
        "\n",
        "# Initialize the sum to zero\n",
        "result = 0\n",
        "\n",
        "# Iterate through the elements of the chromosome along with their indices\n",
        "for index, value in enumerate(chromosome):\n",
        "    print(value)\n",
        "    result += 2 * index\n",
        "\n",
        "# Print the result\n",
        "print(result)\n",
        "\n",
        "chromosome = [1, 2, 3, 4, 5]\n",
        "\n",
        "# Use a list comprehension to calculate the list of 2*index values\n",
        "values = [2 * index for index in range(len(chromosome))]\n",
        "\n",
        "# Calculate the sum of the values\n",
        "result = sum(values)\n",
        "\n",
        "# Print the result\n",
        "print(result)"
      ],
      "metadata": {
        "id": "QxtFDrpJCTTZ"
      },
      "execution_count": null,
      "outputs": []
    },
    {
      "cell_type": "markdown",
      "source": [
        "Hyperparameter"
      ],
      "metadata": {
        "id": "mzzbLgpKuu4i"
      }
    },
    {
      "cell_type": "code",
      "execution_count": 210,
      "metadata": {
        "id": "GQpyU2VSxYv1"
      },
      "outputs": [],
      "source": [
        "# Hyperparameter initiation\n",
        "\n",
        "# ukuran populasi\n",
        "POPULATION_SIZE = 100\n",
        "# ukuran gen\n",
        "GENE_SIZE = 6\n",
        "# batas atas\n",
        "MAX_BOUND = 10\n",
        "# batas bawah\n",
        "MIN_BOUND = -10\n",
        "# A = 0.5\n",
        "#Jumlah kandidat turnamen\n",
        "TS = 30 # harus kurang dari size populasi\n",
        "#Jumlah parent untuk next generation\n",
        "PS = 10 # disarankan genap"
      ]
    },
    {
      "cell_type": "markdown",
      "source": [
        "Library and generic function"
      ],
      "metadata": {
        "id": "by1ywGd2ukYu"
      }
    },
    {
      "cell_type": "code",
      "source": [
        "import math\n",
        "import random\n",
        "\n",
        "# defined formula\n",
        "def alg_func(x, y):\n",
        "  return -(math.sin(x)*math.cos(y)+4/5*math.exp(1-math.sqrt(math.pow(x,2)+math.pow(y,2))))\n",
        "\n",
        "# fittest function\n",
        "def calc(chromosome):\n",
        "  x = chromosome[0]\n",
        "  y = chromosome[1]\n",
        "  #return 1/(alg_func(x,y)+A) #minimalisasi nilai fitness\n",
        "  return alg_func(x,y)\n",
        "\n",
        "def fit(population):\n",
        "  res =[]\n",
        "  for chro in population:\n",
        "    res.append(calc(chro))\n",
        "  return res"
      ],
      "metadata": {
        "id": "e-6SDY3eNf6W"
      },
      "execution_count": 201,
      "outputs": []
    },
    {
      "cell_type": "markdown",
      "source": [
        "Initialization Population"
      ],
      "metadata": {
        "id": "gMZ5B0syuwc8"
      }
    },
    {
      "cell_type": "code",
      "source": [
        "# generate chromosome\n",
        "def generate_chromosome(size):\n",
        "  return [random.choice([0,1]) for _ in range(size)]\n",
        "\n",
        "# generate population\n",
        "def generate_population(pop_size):\n",
        "  return[generate_chromosome(GENE_SIZE) for _ in range(pop_size)]"
      ],
      "metadata": {
        "id": "L36-jsTdSKNv"
      },
      "execution_count": 202,
      "outputs": []
    },
    {
      "cell_type": "markdown",
      "source": [
        "Decode Genotype"
      ],
      "metadata": {
        "id": "d2ajs2Htu03K"
      }
    },
    {
      "cell_type": "code",
      "source": [
        "#Decode formula\n",
        "def index_sum(chromosome):\n",
        "  values = [math.pow(2,index) for index in range(len(chromosome))]\n",
        "  return sum(values)\n",
        "\n",
        "def value_sum(chromosome):\n",
        "  result = 0\n",
        "  for index, value in enumerate(chromosome):\n",
        "      result += value*math.pow(2,index)\n",
        "  return result\n",
        "\n",
        "def decode_calculation(max, min, chromosome):\n",
        "  result = (max - min) * (value_sum(chromosome))\n",
        "  result /= index_sum(chromosome)\n",
        "  return result + min\n",
        "\n",
        "# chromosome -> phenotyoe\n",
        "def decode(chromosome):\n",
        "  midpoint = len(chromosome)//2\n",
        "  x1 = chromosome[:midpoint]\n",
        "  x2 = chromosome[midpoint:]\n",
        "  x1_ = round(decode_calculation(MAX_BOUND, MIN_BOUND, x1))\n",
        "  x2_ = round(decode_calculation(MAX_BOUND, MIN_BOUND, x2))\n",
        "  return [x1_, x2_]\n",
        "\n",
        "#semua populasi -> hasil decode satu populasi\n",
        "def decode_population(population):\n",
        "  res = []\n",
        "  for n in population:\n",
        "    res.append(decode(n))\n",
        "  return res"
      ],
      "metadata": {
        "id": "svNE5W0xkbkz"
      },
      "execution_count": 203,
      "outputs": []
    },
    {
      "cell_type": "markdown",
      "source": [
        "Parent Selection"
      ],
      "metadata": {
        "id": "KrLqj2yDu8mm"
      }
    },
    {
      "cell_type": "code",
      "source": [
        "#Tournament selection\n",
        "\n",
        "def parent_selection(population, tournament_size, parent_size):\n",
        "  parent= []\n",
        "  for _ in range(parent_size):\n",
        "    # tentuin sample yang akan dijadikan parent\n",
        "    candidate = random.sample(population, tournament_size)\n",
        "    # cek fittest setiap kandidat\n",
        "    decoded = decode_population(candidate)\n",
        "    res = fit(decoded)\n",
        "    # cari nilai fittest terendah\n",
        "    lowest = min(res)\n",
        "    index = res.index(lowest)\n",
        "    # masukan fittest terendah kedalam array parent\n",
        "    parent.append(candidate[index])\n",
        "\n",
        "  return parent\n"
      ],
      "metadata": {
        "id": "Jh0YjsM7u_-k"
      },
      "execution_count": 204,
      "outputs": []
    },
    {
      "cell_type": "markdown",
      "source": [
        "Rekombinasi"
      ],
      "metadata": {
        "id": "2mNdvaTKtxmt"
      }
    },
    {
      "cell_type": "code",
      "source": [],
      "metadata": {
        "id": "IP5IkMs9yAcb"
      },
      "execution_count": null,
      "outputs": []
    },
    {
      "cell_type": "code",
      "source": [
        "res = generate_population(POPULATION_SIZE)\n",
        "s = decode_population(res)\n",
        "print(s)\n",
        "n = parent_selection(res, TS, PS)\n",
        "print(n)"
      ],
      "metadata": {
        "colab": {
          "base_uri": "https://localhost:8080/"
        },
        "id": "7Jh7Q3IUV5tx",
        "outputId": "cc10ae00-97d9-429f-81c0-1eb1716ade97"
      },
      "execution_count": 209,
      "outputs": [
        {
          "output_type": "stream",
          "name": "stdout",
          "text": [
            "[[-10, 4], [10, 4], [10, -1], [7, -1], [-4, -10], [7, -1], [1, 10], [-4, -4], [7, -1], [-1, -4], [7, 7], [7, -4], [-4, 10], [-7, -7], [-4, 4], [10, -10], [10, -7], [10, 1], [4, -7], [7, 7], [7, 1], [-10, 10], [10, -10], [1, -7], [-1, 10], [-10, -10], [-1, 10], [1, -10], [10, 1], [4, -7], [-10, -4], [1, -7], [-7, 7], [-7, -10], [-10, 10], [-7, 7], [-7, -7], [-10, -1], [4, -7], [10, -7], [1, -7], [1, 4], [-1, 7], [-7, 4], [7, -10], [-1, -1], [4, 1], [1, -1], [1, -4], [-4, -1], [10, 10], [1, -4], [1, 4], [-7, -1], [-10, -4], [-1, -1], [10, 4], [7, 1], [-1, 10], [-10, -10], [1, -4], [4, 10], [-7, 7], [7, -4], [1, 10], [-4, -1], [4, -10], [10, -10], [4, -7], [-1, -1], [1, -1], [-7, -1], [-10, -1], [-10, 4], [-4, 10], [10, 10], [7, 4], [-4, -10], [10, 4], [10, 10], [-4, 1], [1, 10], [7, 4], [-1, 4], [-7, 10], [-4, 7], [1, 1], [10, 1], [1, 7], [7, 7], [4, -1], [-10, 4], [-10, 1], [10, -4], [-10, 10], [7, -1], [4, -4], [4, -7], [-4, 10], [-10, -10]]\n",
            "[[0, 0, 1, 1, 1, 0], [0, 0, 1, 1, 1, 0], [0, 0, 1, 1, 1, 0], [0, 0, 1, 1, 0, 0], [0, 0, 1, 1, 1, 0], [0, 0, 1, 0, 0, 1], [0, 0, 1, 0, 0, 1], [0, 0, 1, 1, 1, 0], [1, 1, 0, 1, 1, 1], [0, 0, 1, 1, 1, 0]]\n"
          ]
        }
      ]
    }
  ]
}